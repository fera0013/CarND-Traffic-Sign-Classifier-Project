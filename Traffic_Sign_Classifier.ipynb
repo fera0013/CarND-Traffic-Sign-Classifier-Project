{
 "cells": [
  {
   "cell_type": "markdown",
   "metadata": {},
   "source": [
    "# Self-Driving Car Engineer Nanodegree\n",
    "\n",
    "## Deep Learning\n",
    "\n",
    "## Project: Build a Traffic Sign Recognition Classifier\n",
    "\n",
    "In this notebook, a template is provided for you to implement your functionality in stages which is required to successfully complete this project. If additional code is required that cannot be included in the notebook, be sure that the Python code is successfully imported and included in your submission, if necessary. Sections that begin with **'Implementation'** in the header indicate where you should begin your implementation for your project. Note that some sections of implementation are optional, and will be marked with **'Optional'** in the header.\n",
    "\n",
    "In addition to implementing code, there will be questions that you must answer which relate to the project and your implementation. Each section where you will answer a question is preceded by a **'Question'** header. Carefully read each question and provide thorough answers in the following text boxes that begin with **'Answer:'**. Your project submission will be evaluated based on your answers to each of the questions and the implementation you provide.\n",
    "\n",
    ">**Note:** Code and Markdown cells can be executed using the **Shift + Enter** keyboard shortcut. In addition, Markdown cells can be edited by typically double-clicking the cell to enter edit mode."
   ]
  },
  {
   "cell_type": "markdown",
   "metadata": {},
   "source": [
    "---\n",
    "## Step 0: Load The Data"
   ]
  },
  {
   "cell_type": "code",
   "execution_count": 2,
   "metadata": {
    "collapsed": false
   },
   "outputs": [
    {
     "name": "stderr",
     "output_type": "stream",
     "text": [
      "C:\\Users\\Ralph\\Miniconda3\\envs\\carnd-term1\\lib\\site-packages\\sklearn\\cross_validation.py:44: DeprecationWarning: This module was deprecated in version 0.18 in favor of the model_selection module into which all the refactored classes and functions are moved. Also note that the interface of the new CV iterators are different from that of this module. This module will be removed in 0.20.\n",
      "  \"This module will be removed in 0.20.\", DeprecationWarning)\n"
     ]
    }
   ],
   "source": [
    "# Load pickled data\n",
    "import pickle\n",
    "from sklearn.cross_validation import train_test_split\n",
    "RANDOM_STATE = 42\n",
    "\n",
    "\n",
    "# TODO: Fill this in based on where you saved the training and testing data\n",
    "training_file = \"train.p\"\n",
    "testing_file = \"test.p\"\n",
    "\n",
    "\n",
    "with open(training_file, mode='rb') as f:\n",
    "    train = pickle.load(f)\n",
    "with open(testing_file, mode='rb') as f:\n",
    "    test = pickle.load(f)\n",
    "    \n",
    "X_train, y_train = train['features'], train['labels']\n",
    "X_train, X_validation, y_train, y_validation = train_test_split(X_train,\n",
    "                                                                y_train, \n",
    "                                                                test_size = 0.20,\n",
    "                                                                random_state = RANDOM_STATE)\n",
    "X_test, y_test = test['features'], test['labels']\n",
    "\n",
    "assert(len(X_train) == len(y_train))\n",
    "assert(len(X_validation) == len(y_validation))\n",
    "assert(len(X_test) == len(y_test))"
   ]
  },
  {
   "cell_type": "markdown",
   "metadata": {},
   "source": [
    "---\n",
    "\n",
    "## Step 1: Dataset Summary & Exploration\n",
    "\n",
    "The pickled data is a dictionary with 4 key/value pairs:\n",
    "\n",
    "- `'features'` is a 4D array containing raw pixel data of the traffic sign images, (num examples, width, height, channels).\n",
    "- `'labels'` is a 2D array containing the label/class id of the traffic sign. The file `signnames.csv` contains id -> name mappings for each id.\n",
    "- `'sizes'` is a list containing tuples, (width, height) representing the the original width and height the image.\n",
    "- `'coords'` is a list containing tuples, (x1, y1, x2, y2) representing coordinates of a bounding box around the sign in the image. **THESE COORDINATES ASSUME THE ORIGINAL IMAGE. THE PICKLED DATA CONTAINS RESIZED VERSIONS (32 by 32) OF THESE IMAGES**\n",
    "\n",
    "Complete the basic data summary below."
   ]
  },
  {
   "cell_type": "code",
   "execution_count": 3,
   "metadata": {
    "collapsed": false
   },
   "outputs": [
    {
     "name": "stdout",
     "output_type": "stream",
     "text": [
      "Image Shape:       (32, 32, 3)\n",
      "Training Set:      31367 samples\n",
      "Validation Set:    7842 samples\n",
      "Test Set:          12630 samples\n",
      "Number of classes: 43\n"
     ]
    }
   ],
   "source": [
    "import numpy as np\n",
    "\n",
    "n_train = X_train.shape[0]\n",
    "n_test = X_test.shape[0]\n",
    "image_shape = X_train.shape[1:]\n",
    "n_classes = len(set(y_train))\n",
    "\n",
    "print(\"Image Shape:       {}\".format(X_train[0].shape))\n",
    "print(\"Training Set:      {} samples\".format(len(X_train)))\n",
    "print(\"Validation Set:    {} samples\".format(len(X_validation)))\n",
    "print(\"Test Set:          {} samples\".format(len(X_test)))\n",
    "print(\"Number of classes: {}\".format(n_classes))"
   ]
  },
  {
   "cell_type": "code",
   "execution_count": 4,
   "metadata": {
    "collapsed": false
   },
   "outputs": [],
   "source": [
    "#Create pandas series mapping the numerical traffic sign IDs to the corresponding sign names\n",
    "import pandas\n",
    "sign_names = pandas.read_csv('signnames.csv',\n",
    "                             sep = None,\n",
    "                             skipinitialspace = True,\n",
    "                             usecols = [1],\n",
    "                             squeeze = True,\n",
    "                             engine = 'python')"
   ]
  },
  {
   "cell_type": "markdown",
   "metadata": {},
   "source": [
    "Visualize the German Traffic Signs Dataset using the pickled file(s). This is open ended, suggestions include: plotting traffic sign images, plotting the count of each sign, etc.\n",
    "\n",
    "The [Matplotlib](http://matplotlib.org/) [examples](http://matplotlib.org/examples/index.html) and [gallery](http://matplotlib.org/gallery.html) pages are a great resource for doing visualizations in Python.\n",
    "\n",
    "**NOTE:** It's recommended you start with something simple first. If you wish to do more, come back to it after you've completed the rest of the sections."
   ]
  },
  {
   "cell_type": "code",
   "execution_count": 5,
   "metadata": {
    "collapsed": false
   },
   "outputs": [
    {
     "name": "stdout",
     "output_type": "stream",
     "text": [
      "The most frequent traffic sign in the training set is ' Speed limit (50km/h) ', with  1800   occurences.\n",
      "The least frequent traffic sign in the training set is ' Go straight or left ', with  163    occurences.\n",
      "The ratio most_frequent/least_frequent is  11.042944785276074\n"
     ]
    },
    {
     "data": {
      "image/png": "[encoded data removed]",
      "text/plain": [
       "<matplotlib.figure.Figure at 0x238a5a2e438>"
      ]
     },
     "metadata": {},
     "output_type": "display_data"
    }
   ],
   "source": [
    "### Data exploration visualization goes here.\n",
    "### Feel free to use as many code cells as needed.\n",
    "import matplotlib.pyplot as plt\n",
    "from collections import Counter\n",
    "# Visualizations will be shown in the notebook.\n",
    "%matplotlib inline\n",
    "plt.hist(y_train,bins=n_classes, rwidth=0.5)\n",
    "count = Counter(y_train)\n",
    "most_frequent=count.most_common()[0]\n",
    "least_frequent=count.most_common()[-1]\n",
    "print(\"The most frequent traffic sign in the training set is '\", \n",
    "      sign_names[most_frequent[0]],\"', with \", most_frequent[1],\"  occurences.\")\n",
    "print(\"The least frequent traffic sign in the training set is '\", \n",
    "      sign_names[least_frequent[0]],\"', with \",least_frequent[1],\"   occurences.\")\n",
    "print(\"The ratio most_frequent/least_frequent is \", most_frequent[1]/least_frequent[1])"
   ]
  },
  {
   "cell_type": "markdown",
   "metadata": {},
   "source": [
    "The histogramm reveals that the training set is extremely unbalanced, with the most frequent sign occuring more than 10 times more often than the least frequent. Since the traffic signs were recorded in real life traffic situations, the distribution of the training samples may represent the real distribution of signs in US traffic. A classifier trained on such an unbalanced dataset will however not be able to learn the less common signs well enough, which is potentially dangerous, since the frequency of occurence is not correlated with the relevance of a traffic sign. \n",
    "\n",
    "Common mitigation strategies for unbalanced datasets are the augmentation of underrepresented classes by artificially created samples, or the subsampling of a balanced training set before each training step. The implementation of such a strategy is deferred to a later iteration of this notebook. "
   ]
  },
  {
   "cell_type": "code",
   "execution_count": 6,
   "metadata": {
    "collapsed": false
   },
   "outputs": [
    {
     "data": {
      "image/png": "[encoded data removed]",
      "text/plain": [
       "<matplotlib.figure.Figure at 0x238a6f71470>"
      ]
     },
     "metadata": {},
     "output_type": "display_data"
    },
    {
     "name": "stdout",
     "output_type": "stream",
     "text": [
      "Keep right\n"
     ]
    }
   ],
   "source": [
    "import random\n",
    "import numpy as np\n",
    "import matplotlib.pyplot as plt\n",
    "%matplotlib inline\n",
    "\n",
    "index = random.randint(0, len(X_train))\n",
    "image = X_train[index].squeeze()\n",
    "\n",
    "plt.figure(figsize=(1,1))\n",
    "plt.imshow(image)\n",
    "plt.show()\n",
    "print(sign_names[y_train[index]])"
   ]
  },
  {
   "cell_type": "markdown",
   "metadata": {},
   "source": [
    "----\n",
    "\n",
    "## Step 2: Design and Test a Model Architecture\n",
    "\n",
    "Design and implement a deep learning model that learns to recognize traffic signs. Train and test your model on the [German Traffic Sign Dataset](http://benchmark.ini.rub.de/?section=gtsrb&subsection=dataset).\n",
    "\n",
    "There are various aspects to consider when thinking about this problem:\n",
    "\n",
    "- Neural network architecture\n",
    "- Play around preprocessing techniques (normalization, rgb to grayscale, etc)\n",
    "- Number of examples per label (some have more than others).\n",
    "- Generate fake data.\n",
    "\n",
    "Here is an example of a [published baseline model on this problem](http://yann.lecun.com/exdb/publis/pdf/sermanet-ijcnn-11.pdf). It's not required to be familiar with the approach used in the paper but, it's good practice to try to read papers like these.\n",
    "\n",
    "**NOTE:** The LeNet-5 implementation shown in the [classroom](https://classroom.udacity.com/nanodegrees/nd013/parts/fbf77062-5703-404e-b60c-95b78b2f3f9e/modules/6df7ae49-c61c-4bb2-a23e-6527e69209ec/lessons/601ae704-1035-4287-8b11-e2c2716217ad/concepts/d4aca031-508f-4e0b-b493-e7b706120f81) at the end of the CNN lesson is a solid starting point. You'll have to change the number of classes and possibly the preprocessing, but aside from that it's plug and play!"
   ]
  },
  {
   "cell_type": "markdown",
   "metadata": {},
   "source": [
    "### Implementation\n",
    "\n",
    "Use the code cell (or multiple code cells, if necessary) to implement the first step of your project. Once you have completed your implementation and are satisfied with the results, be sure to thoroughly answer the questions that follow."
   ]
  },
  {
   "cell_type": "markdown",
   "metadata": {},
   "source": [
    "### Question 1 \n",
    "\n",
    "_Describe how you preprocessed the data. Why did you choose that technique?_"
   ]
  },
  {
   "cell_type": "markdown",
   "metadata": {},
   "source": [
    "**Answer:**\n",
    "\n",
    "The color channels are normalized by including *tf.nn.l2_normalize(x, 2, epsilon=1e-12, name=None)* in the tensorflow pipeline (see below). Normalization prevents the neurons from saturation and enhances generalization.  Grayscale conversion is not included in the preprocessing pipeline, since the color channels may encode relevant information for traffic sign discrimination (e.g. red vs green)."
   ]
  },
  {
   "cell_type": "markdown",
   "metadata": {},
   "source": [
    "### Question 2\n",
    "\n",
    "_Describe how you set up the training, validation and testing data for your model. **Optional**: If you generated additional data, how did you generate the data? Why did you generate the data? What are the differences in the new dataset (with generated data) from the original dataset?"
   ]
  },
  {
   "cell_type": "markdown",
   "metadata": {},
   "source": [
    "**Answer:**\n",
    "The traffic sign dataset comes pre-packacked in a training and testing set. The initial training set is further split into an actual training set of 80% and a validation set of 20% of the original data. The validation set can be used to validate several training setups and hyperparameter combinations whereas the test set is retained for measuring the performance of the trained network. "
   ]
  },
  {
   "cell_type": "code",
   "execution_count": 7,
   "metadata": {
    "collapsed": false
   },
   "outputs": [],
   "source": [
    "import tensorflow as tf\n",
    "from tensorflow.contrib.layers import flatten\n",
    "\n",
    "def LeNet(x, keep_prob):    \n",
    "    # Hyperparameters\n",
    "    mu = 0\n",
    "    sigma = 0.1\n",
    "    \n",
    "    conv1_W = tf.Variable(tf.truncated_normal(shape=(5, 5, 3, 6),\n",
    "                                              mean = mu,\n",
    "                                              stddev = sigma))\n",
    "    conv1_b = tf.Variable(tf.zeros(6))\n",
    "    conv1   = tf.nn.conv2d(x,\n",
    "                           conv1_W,\n",
    "                           strides=[1, 1, 1, 1],\n",
    "                           padding='VALID') + conv1_b\n",
    "    conv1 = tf.nn.relu(conv1)\n",
    "    conv1 = tf.nn.max_pool(conv1,\n",
    "                           ksize=[1, 2, 2, 1],\n",
    "                           strides=[1, 2, 2, 1],\n",
    "                           padding='VALID')\n",
    "\n",
    "    conv2_W = tf.Variable(tf.truncated_normal(shape=(5, 5, 6, 16),\n",
    "                                              mean = mu, \n",
    "                                              stddev = sigma))\n",
    "    conv2_b = tf.Variable(tf.zeros(16))\n",
    "    conv2   = tf.nn.conv2d(conv1,\n",
    "                           conv2_W,\n",
    "                           strides=[1, 1, 1, 1],\n",
    "                           padding='VALID') + conv2_b\n",
    "    conv2 = tf.nn.relu(conv2)\n",
    "    conv2 = tf.nn.max_pool(conv2,\n",
    "                           ksize=[1, 2, 2, 1],\n",
    "                           strides=[1, 2, 2, 1],\n",
    "                           padding='VALID')\n",
    "\n",
    "    fc0   = flatten(conv2)\n",
    "    \n",
    "    fc1_W = tf.Variable(tf.truncated_normal(shape=(400, 120),\n",
    "                                            mean = mu,\n",
    "                                            stddev = sigma))\n",
    "    fc1_b = tf.Variable(tf.zeros(120))\n",
    "    fc1   = tf.matmul(fc0, fc1_W) + fc1_b\n",
    "    fc1    = tf.nn.relu(fc1)\n",
    "\n",
    "    fc2_W  = tf.Variable(tf.truncated_normal(shape=(120, 84),\n",
    "                                             mean = mu,\n",
    "                                             stddev = sigma))\n",
    "    fc2_b  = tf.Variable(tf.zeros(84))\n",
    "    fc2    = tf.matmul(fc1, fc2_W) + fc2_b\n",
    "    fc2    = tf.nn.relu(fc2)\n",
    "    fc2    = tf.nn.dropout(fc2,\n",
    "                           keep_prob)\n",
    "\n",
    "    fc3_W  = tf.Variable(tf.truncated_normal(shape=(84, n_classes),\n",
    "                                             mean = mu,\n",
    "                                             stddev = sigma))\n",
    "    fc3_b  = tf.Variable(tf.zeros(n_classes))\n",
    "    logits = tf.matmul(fc2, fc3_W) + fc3_b\n",
    "    \n",
    "    return logits"
   ]
  },
  {
   "cell_type": "markdown",
   "metadata": {},
   "source": [
    "### Question 3\n",
    "\n",
    "_What does your final architecture look like? (Type of model, layers, sizes, connectivity, etc.)  For reference on how to build a deep neural network using TensorFlow, see [Deep Neural Network in TensorFlow\n",
    "](https://classroom.udacity.com/nanodegrees/nd013/parts/fbf77062-5703-404e-b60c-95b78b2f3f9e/modules/6df7ae49-c61c-4bb2-a23e-6527e69209ec/lessons/b516a270-8600-4f93-a0a3-20dfeabe5da6/concepts/83a3a2a2-a9bd-4b7b-95b0-eb924ab14432) from the classroom._\n"
   ]
  },
  {
   "cell_type": "markdown",
   "metadata": {},
   "source": [
    "**Answer:**\n",
    "The model architecture is based on the classical LeNet architecture, as decribed in http://yann.lecun.com/exdb/publis/pdf/lecun-01a.pdf. A dropout layer was added after the second fully connected layer, to improve generalization. \n",
    "The final architecture can be illustrated as follows:  \n",
    "\n",
    "<img src=\"images/lenet5.png\">"
   ]
  },
  {
   "cell_type": "code",
   "execution_count": 8,
   "metadata": {
    "collapsed": false
   },
   "outputs": [
    {
     "name": "stdout",
     "output_type": "stream",
     "text": [
      "Training...\n",
      "\n",
      "EPOCH 1 ...\n",
      "Validation Accuracy = 0.644\n",
      "\n",
      "EPOCH 2 ...\n",
      "Validation Accuracy = 0.825\n",
      "\n",
      "EPOCH 3 ...\n",
      "Validation Accuracy = 0.883\n",
      "\n",
      "EPOCH 4 ...\n",
      "Validation Accuracy = 0.914\n",
      "\n",
      "EPOCH 5 ...\n",
      "Validation Accuracy = 0.935\n",
      "\n",
      "EPOCH 6 ...\n",
      "Validation Accuracy = 0.942\n",
      "\n",
      "EPOCH 7 ...\n",
      "Validation Accuracy = 0.955\n",
      "\n",
      "EPOCH 8 ...\n",
      "Validation Accuracy = 0.955\n",
      "\n",
      "EPOCH 9 ...\n",
      "Validation Accuracy = 0.960\n",
      "\n",
      "EPOCH 10 ...\n",
      "Validation Accuracy = 0.966\n",
      "\n",
      "EPOCH 11 ...\n",
      "Validation Accuracy = 0.966\n",
      "\n",
      "EPOCH 12 ...\n",
      "Validation Accuracy = 0.970\n",
      "\n",
      "EPOCH 13 ...\n",
      "Validation Accuracy = 0.965\n",
      "\n",
      "EPOCH 14 ...\n",
      "Validation Accuracy = 0.961\n",
      "\n",
      "EPOCH 15 ...\n",
      "Validation Accuracy = 0.969\n",
      "\n",
      "Model saved\n"
     ]
    }
   ],
   "source": [
    "KEEP_PROB = 0.8\n",
    "NO_DROPOUT = 1.\n",
    "\n",
    "EPOCHS = 15\n",
    "BATCH_SIZE = 128\n",
    "\n",
    "x = tf.placeholder(tf.float32, (None, 32, 32, 3))\n",
    "x = tf.nn.l2_normalize(x, 2, epsilon=1e-12, name=None)\n",
    "y = tf.placeholder(tf.int32, (None))\n",
    "one_hot_y = tf.one_hot(y, n_classes)\n",
    "keep_prob = tf.placeholder(tf.float32) #dropout (keep probability)\n",
    "\n",
    "rate = 0.001\n",
    "\n",
    "logits = LeNet(x, keep_prob)\n",
    "cross_entropy = tf.nn.softmax_cross_entropy_with_logits(logits, one_hot_y)\n",
    "loss_operation = tf.reduce_mean(cross_entropy)\n",
    "optimizer = tf.train.AdamOptimizer(learning_rate = rate)\n",
    "training_operation = optimizer.minimize(loss_operation)\n",
    "correct_prediction = tf.equal(tf.argmax(logits, 1), tf.argmax(one_hot_y, 1))\n",
    "accuracy_operation = tf.reduce_mean(tf.cast(correct_prediction, tf.float32))\n",
    "saver = tf.train.Saver()\n",
    "\n",
    "def evaluate(X_data, y_data):\n",
    "    num_examples = len(X_data)\n",
    "    total_accuracy = 0\n",
    "    sess = tf.get_default_session()\n",
    "    for offset in range(0, num_examples, BATCH_SIZE):\n",
    "        batch_x, batch_y = X_data[offset:offset+BATCH_SIZE], y_data[offset:offset+BATCH_SIZE]\n",
    "        accuracy = sess.run(accuracy_operation, feed_dict={x: batch_x,\n",
    "                                                           y: batch_y,\n",
    "                                                           keep_prob: NO_DROPOUT})\n",
    "        \n",
    "        total_accuracy += (accuracy * len(batch_x))\n",
    "    return total_accuracy / num_examples\n",
    "\n",
    "\n",
    "with tf.Session() as sess:\n",
    "    sess.run(tf.global_variables_initializer())\n",
    "    num_examples = len(X_train)\n",
    "    \n",
    "    print(\"Training...\")\n",
    "    print()\n",
    "    for i in range(EPOCHS):\n",
    "        for offset in range(0, num_examples, BATCH_SIZE):\n",
    "            end = offset + BATCH_SIZE\n",
    "            batch_x, batch_y = X_train[offset:end], y_train[offset:end]\n",
    "            sess.run(training_operation, feed_dict={x: batch_x, \n",
    "                                                    y: batch_y,\n",
    "                                                    keep_prob: KEEP_PROB})\n",
    "            \n",
    "        validation_accuracy = evaluate(X_validation, y_validation)\n",
    "        print(\"EPOCH {} ...\".format(i+1))\n",
    "        print(\"Validation Accuracy = {:.3f}\".format(validation_accuracy))\n",
    "        print()\n",
    "        \n",
    "    saver.save(sess,\"lenet/\")\n",
    "    print(\"Model saved\")"
   ]
  },
  {
   "cell_type": "code",
   "execution_count": 9,
   "metadata": {
    "collapsed": false
   },
   "outputs": [
    {
     "name": "stdout",
     "output_type": "stream",
     "text": [
      "The accuracy on the test set is  0.896358\n"
     ]
    }
   ],
   "source": [
    "with tf.Session() as sess:\n",
    "    saver.restore(sess, 'lenet/')\n",
    "    print(\"The accuracy on the test set is \",\n",
    "          sess.run(accuracy_operation, feed_dict={x: X_test,\n",
    "                                                  y: y_test,\n",
    "                                                  keep_prob: NO_DROPOUT}))"
   ]
  },
  {
   "cell_type": "markdown",
   "metadata": {},
   "source": [
    "### Question 5\n",
    "\n",
    "\n",
    "_What approach did you take in coming up with a solution to this problem? It may have been a process of trial and error, in which case, outline the steps you took to get to the final solution and why you chose those steps. Perhaps your solution involved an already well known implementation or architecture. In this case, discuss why you think this is suitable for the current problem._"
   ]
  },
  {
   "cell_type": "markdown",
   "metadata": {},
   "source": [
    "**Answer:**\n",
    "It is highly unlikely that a deep learning architecture built from scratch is able to outperform sophisticated current deep learning architectures that regularly achieve accuracy results of 0.95(+) on image classification tasks. A more promising approach is to try and reproduce the results of existing architectures and then build on it by modifying carefully selected hyperparameters, or improving the preprocessing pipeline. With its straightforward architecture, a low training time and a proven track reckord on various image classification tasks, LeNet is a good starting point.\n",
    "\n",
    "The original LeNet5 architecture was augmented by a dropout layer, to reduce overfitting and increase generalization. A low dropout rate of 0.2 proved to be sufficient, since the accuracy results on the test set are already relatively closed to the validation accuracy without dropping out. The network was trained for 15 epochs, generating an accuracy of 0.97 on the validation set. Training for more epochs may lead to overfitting the network to the dataset."
   ]
  },
  {
   "cell_type": "markdown",
   "metadata": {},
   "source": [
    "---\n",
    "\n",
    "## Step 3: Test a Model on New Images\n",
    "\n",
    "Take several pictures of traffic signs that you find on the web or around you (at least five), and run them through your classifier on your computer to produce example results. The classifier might not recognize some local signs but it could prove interesting nonetheless.\n",
    "\n",
    "You may find `signnames.csv` useful as it contains mappings from the class id (integer) to the actual sign name."
   ]
  },
  {
   "cell_type": "markdown",
   "metadata": {},
   "source": [
    "### Implementation\n",
    "\n",
    "Use the code cell (or multiple code cells, if necessary) to implement the first step of your project. Once you have completed your implementation and are satisfied with the results, be sure to thoroughly answer the questions that follow."
   ]
  },
  {
   "cell_type": "code",
   "execution_count": 11,
   "metadata": {
    "collapsed": false
   },
   "outputs": [
    {
     "data": {
      "image/png": "[encoded data removed]",
      "text/plain": [
       "<matplotlib.figure.Figure at 0x238bdbb4c88>"
      ]
     },
     "metadata": {},
     "output_type": "display_data"
    },
    {
     "name": "stdout",
     "output_type": "stream",
     "text": [
      "Speed limit (50km/h)\n"
     ]
    },
    {
     "data": {
      "image/png": "[encoded data removed]",
      "text/plain": [
       "<matplotlib.figure.Figure at 0x238bdc40ef0>"
      ]
     },
     "metadata": {},
     "output_type": "display_data"
    },
    {
     "name": "stdout",
     "output_type": "stream",
     "text": [
      "Yield\n"
     ]
    },
    {
     "data": {
      "image/png": "[encoded data removed]",
      "text/plain": [
       "<matplotlib.figure.Figure at 0x238bdc9b438>"
      ]
     },
     "metadata": {},
     "output_type": "display_data"
    },
    {
     "name": "stdout",
     "output_type": "stream",
     "text": [
      "Dangerous curve to the right\n"
     ]
    },
    {
     "data": {
      "image/png": "[encoded data removed]",
      "text/plain": [
       "<matplotlib.figure.Figure at 0x238bde33e10>"
      ]
     },
     "metadata": {},
     "output_type": "display_data"
    },
    {
     "name": "stdout",
     "output_type": "stream",
     "text": [
      "Speed limit (120km/h)\n"
     ]
    },
    {
     "data": {
      "image/png": "[encoded data removed]",
      "text/plain": [
       "<matplotlib.figure.Figure at 0x238bda38ac8>"
      ]
     },
     "metadata": {},
     "output_type": "display_data"
    },
    {
     "name": "stdout",
     "output_type": "stream",
     "text": [
      "Turn left ahead\n"
     ]
    }
   ],
   "source": [
    "### Load the images and plot them here.\n",
    "### Feel free to use as many code cells as needed.\n",
    "import matplotlib.pyplot as plt\n",
    "import matplotlib.image as mpimg\n",
    "#reading in sign images\n",
    "import os\n",
    "import numpy\n",
    "numpy.random.seed(seed=44)\n",
    "test_sample_idx = np.random.choice(len(X_test), 5)\n",
    "\n",
    "for i in test_sample_idx:\n",
    "    plt.figure(figsize=(1,1))\n",
    "    plt.imshow(X_test[i].squeeze())  \n",
    "    plt.show()\n",
    "    print(sign_names[y_test[i]])"
   ]
  },
  {
   "cell_type": "markdown",
   "metadata": {},
   "source": [
    "### Question 6\n",
    "\n",
    "_Choose five candidate images of traffic signs and provide them in the report. Are there any particular qualities of the image(s) that might make classification difficult? It could be helpful to plot the images in the notebook._\n",
    "\n"
   ]
  },
  {
   "cell_type": "markdown",
   "metadata": {},
   "source": [
    "**Answer:**\n",
    "The five candidates were randomly drawn from the traffic sign test set. Although these images belong to the same population as the training images, some specific features may represent a challenge for the trained network. The first sign is clearly visible, but it is very similar to other speed limit signs and may be confused with *speed limit 60 km/h*, e.g . The second sign is more distinctive, but very blurry - as well as the fourth sign, which may therefore be confused with another 3-figure speed limit sign. the slightly distorted angle of the third sign could also pose a problem."
   ]
  },
  {
   "cell_type": "code",
   "execution_count": 12,
   "metadata": {
    "collapsed": false
   },
   "outputs": [],
   "source": [
    "### Run the predictions here.\n",
    "### Feel free to use as many code cells as needed.\n",
    "output=[]\n",
    "with tf.Session() as sess:\n",
    "    saver.restore(sess, 'lenet/')\n",
    "    softmax = tf.nn.softmax(logits)\n",
    "    output = sess.run(softmax, feed_dict={x: X_test[test_sample_idx],\n",
    "                                          keep_prob: NO_DROPOUT})"
   ]
  },
  {
   "cell_type": "markdown",
   "metadata": {},
   "source": [
    "### Question 7\n",
    "\n",
    "_Is your model able to perform equally well on captured pictures when compared to testing on the dataset? The simplest way to do this check the accuracy of the predictions. For example, if the model predicted 1 out of 5 signs correctly, it's 20% accurate._\n",
    "\n",
    "_**NOTE:** You could check the accuracy manually by using `signnames.csv` (same directory). This file has a mapping from the class id (0-42) to the corresponding sign name. So, you could take the class id the model outputs, lookup the name in `signnames.csv` and see if it matches the sign from the image._\n"
   ]
  },
  {
   "cell_type": "markdown",
   "metadata": {},
   "source": [
    "**Answer:**\n",
    "The softmax distribution below reveals, that the classifier correctly classifies the one sign it knows with a certainty of 100%. It is however also extremely certain in the 4 wrongly classified signs, which intuitively is not desirable. This is an indication of overfitting and low generalization, which could be mitigated by balancing the training data set and by adding perturbed images created from the original samples. "
   ]
  },
  {
   "cell_type": "code",
   "execution_count": 39,
   "metadata": {
    "collapsed": false
   },
   "outputs": [
    {
     "data": {
      "image/png": "[encoded data removed]",
      "text/plain": [
       "<matplotlib.figure.Figure at 0x238bf6cfda0>"
      ]
     },
     "metadata": {},
     "output_type": "display_data"
    },
    {
     "name": "stdout",
     "output_type": "stream",
     "text": [
      "correct sign name: Speed limit (50km/h)\n",
      "predicted sign names:\n",
      "Speed limit (50km/h): 0.918473124504\n",
      "Speed limit (80km/h): 0.081051528454\n",
      "Speed limit (30km/h): 0.000475256995\n",
      "Speed limit (60km/h): 0.000000035286\n",
      "Speed limit (20km/h): 0.000000000230\n",
      "\n"
     ]
    },
    {
     "data": {
      "image/png": "[encoded data removed]",
      "text/plain": [
       "<matplotlib.figure.Figure at 0x238bf66b748>"
      ]
     },
     "metadata": {},
     "output_type": "display_data"
    },
    {
     "data": {
      "image/png": "[encoded data removed]",
      "text/plain": [
       "<matplotlib.figure.Figure at 0x238bf63ea90>"
      ]
     },
     "metadata": {},
     "output_type": "display_data"
    },
    {
     "name": "stdout",
     "output_type": "stream",
     "text": [
      "correct sign name: Yield\n",
      "predicted sign names:\n",
      "Yield: 1.000000000000\n",
      "No passing for vehicles over 3.5 metric tons: 0.000000000000\n",
      "No vehicles: 0.000000000000\n",
      "Ahead only: 0.000000000000\n",
      "Road work: 0.000000000000\n",
      "\n"
     ]
    },
    {
     "data": {
      "image/png": "[encoded data removed]",
      "text/plain": [
       "<matplotlib.figure.Figure at 0x238bf169828>"
      ]
     },
     "metadata": {},
     "output_type": "display_data"
    },
    {
     "data": {
      "image/png": "[encoded data removed]",
      "text/plain": [
       "<matplotlib.figure.Figure at 0x238bf5e8358>"
      ]
     },
     "metadata": {},
     "output_type": "display_data"
    },
    {
     "name": "stdout",
     "output_type": "stream",
     "text": [
      "correct sign name: Dangerous curve to the right\n",
      "predicted sign names:\n",
      "Beware of ice/snow: 1.000000000000\n",
      "Right-of-way at the next intersection: 0.000000000000\n",
      "Children crossing: 0.000000000000\n",
      "Dangerous curve to the right: 0.000000000000\n",
      "Pedestrians: 0.000000000000\n",
      "\n"
     ]
    },
    {
     "data": {
      "image/png": "[encoded data removed]",
      "text/plain": [
       "<matplotlib.figure.Figure at 0x238bf64a518>"
      ]
     },
     "metadata": {},
     "output_type": "display_data"
    },
    {
     "data": {
      "image/png": "[encoded data removed]",
      "text/plain": [
       "<matplotlib.figure.Figure at 0x238bf676198>"
      ]
     },
     "metadata": {},
     "output_type": "display_data"
    },
    {
     "name": "stdout",
     "output_type": "stream",
     "text": [
      "correct sign name: Speed limit (120km/h)\n",
      "predicted sign names:\n",
      "Speed limit (120km/h): 0.999777138233\n",
      "Speed limit (100km/h): 0.000222226488\n",
      "Speed limit (70km/h): 0.000000671629\n",
      "Speed limit (50km/h): 0.000000000246\n",
      "No vehicles: 0.000000000001\n",
      "\n"
     ]
    },
    {
     "data": {
      "image/png": "[encoded data removed]",
      "text/plain": [
       "<matplotlib.figure.Figure at 0x238bf1e5a90>"
      ]
     },
     "metadata": {},
     "output_type": "display_data"
    },
    {
     "data": {
      "image/png": "[encoded data removed]",
      "text/plain": [
       "<matplotlib.figure.Figure at 0x238bf688b70>"
      ]
     },
     "metadata": {},
     "output_type": "display_data"
    },
    {
     "name": "stdout",
     "output_type": "stream",
     "text": [
      "correct sign name: Turn left ahead\n",
      "predicted sign names:\n",
      "Turn left ahead: 1.000000000000\n",
      "Keep right: 0.000000000000\n",
      "Dangerous curve to the right: 0.000000000000\n",
      "Yield: 0.000000000000\n",
      "Turn right ahead: 0.000000000000\n",
      "\n"
     ]
    },
    {
     "data": {
      "image/png": "[encoded data removed]",
      "text/plain": [
       "<matplotlib.figure.Figure at 0x238bde844e0>"
      ]
     },
     "metadata": {},
     "output_type": "display_data"
    }
   ],
   "source": [
    "### Visualize the softmax probabilities here.\n",
    "### Feel free to use as many code cells as needed.\n",
    "for i in range(output.shape[0]):\n",
    "    inds = np.argsort(output)[i, :]\n",
    "    #top_candidates = sign_names[inds[-5:]]\n",
    "    top_candidates = inds[-5:]\n",
    "    softmaxes = output[i, inds[-5:]]\n",
    "    plt.figure(figsize=(1,1))\n",
    "    plt.imshow(X_test[test_sample_idx[i]].squeeze())  \n",
    "    plt.show()\n",
    "    plt.bar(top_candidates, softmaxes)\n",
    "    plt.xlabel('Classes')\n",
    "    plt.ylabel('Softmax')\n",
    "    print(\"correct sign name: \"+sign_names[y_test[test_sample_idx[i]]])\n",
    "    print(\"predicted sign names:\")\n",
    "    for j in range(5):\n",
    "        print(\"%s: %.12f\" % (sign_names[inds[-1 - j]], output[i, inds[-1 - j]]))\n",
    "    print() \n"
   ]
  },
  {
   "cell_type": "markdown",
   "metadata": {},
   "source": [
    "### Question 8\n",
    "\n",
    "*Use the model's softmax probabilities to visualize the **certainty** of its predictions, [`tf.nn.top_k`](https://www.tensorflow.org/versions/r0.12/api_docs/python/nn.html#top_k) could prove helpful here. Which predictions is the model certain of? Uncertain? If the model was incorrect in its initial prediction, does the correct prediction appear in the top k? (k should be 5 at most)*"
   ]
  },
  {
   "cell_type": "markdown",
   "metadata": {},
   "source": [
    "**Answer:**\n",
    "The evaluation of the softmax probabilities above reveals, that the network generally seems to be very confident in its predictions. \n",
    "\n",
    "The label distribution for the two speed limit sign shows that the network is able to detect similarities, but also to discriminate correctly based on small details. The good results for the speed limit signs could however be partly attributed to their overrepresentation in the training set. \n",
    "\n",
    "Contrary to the initial assumption, the network doesn't seem to have any problem classifying the blurred *yield* sign. But it completely fails to detect the slightly distorted *Dangerous curve to the right* and is much too confident in its wrong classification. These types of errors could be mitigated by augmenting the initial dataset with rotated, shifted, flipped, etc. versions of the original images. "
   ]
  },
  {
   "cell_type": "code",
   "execution_count": 40,
   "metadata": {
    "collapsed": false
   },
   "outputs": [
    {
     "name": "stdout",
     "output_type": "stream",
     "text": [
      "TopKV2(values=array([[  9.18473125e-01,   8.10515285e-02,   4.75256995e-04,\n",
      "          3.52855061e-08,   2.29879060e-10],\n",
      "       [  1.00000000e+00,   1.20875262e-18,   3.73025524e-19,\n",
      "          1.39764301e-19,   1.16547357e-19],\n",
      "       [  1.00000000e+00,   1.12708652e-16,   6.59503559e-17,\n",
      "          4.18573176e-17,   3.14395427e-22],\n",
      "       [  9.99777138e-01,   2.22226488e-04,   6.71628925e-07,\n",
      "          2.45566678e-10,   1.44877697e-12],\n",
      "       [  1.00000000e+00,   1.33225418e-16,   4.17757748e-26,\n",
      "          4.39530691e-30,   1.00316349e-30]], dtype=float32), indices=array([[ 2,  5,  1,  3,  0],\n",
      "       [13, 10, 15, 35, 25],\n",
      "       [30, 11, 28, 20, 27],\n",
      "       [ 8,  7,  4,  2, 15],\n",
      "       [34, 38, 20, 13, 33]]))\n"
     ]
    }
   ],
   "source": [
    "with tf.Session() as sess:\n",
    "    print(sess.run(tf.nn.top_k(output, k=5)))"
   ]
  },
  {
   "cell_type": "markdown",
   "metadata": {},
   "source": [
    "> **Note**: Once you have completed all of the code implementations and successfully answered each question above, you may finalize your work by exporting the iPython Notebook as an HTML document. You can do this by using the menu above and navigating to  \\n\",\n",
    "    \"**File -> Download as -> HTML (.html)**. Include the finished document along with this notebook as your submission."
   ]
  }
 ],
 "metadata": {
  "anaconda-cloud": {},
  "kernelspec": {
   "display_name": "Python 3",
   "language": "python",
   "name": "python3"
  },
  "language_info": {
   "codemirror_mode": {
    "name": "ipython",
    "version": 3
   },
   "file_extension": ".py",
   "mimetype": "text/x-python",
   "name": "python",
   "nbconvert_exporter": "python",
   "pygments_lexer": "ipython3",
   "version": "3.5.2"
  },
  "widgets": {
   "state": {},
   "version": "1.1.2"
  }
 },
 "nbformat": 4,
 "nbformat_minor": 1
}
